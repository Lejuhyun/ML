{
 "cells": [
  {
   "cell_type": "markdown",
   "id": "181b990f-9410-4c61-88fb-1704adaa7281",
   "metadata": {},
   "source": [
    "# **확률적 경사 하강법**"
   ]
  },
  {
   "cell_type": "markdown",
   "id": "10192367-6a30-4547-8eca-fa0763d23d8e",
   "metadata": {},
   "source": [
    "## **손실함수**\n",
    "- 예측한 값과 실제 값 사이의 차이를 측정하는 함수\n",
    "- 손실함수의 값을 최소화하는 것이 모델 학습의 목표"
   ]
  },
  {
   "cell_type": "code",
   "execution_count": 1,
   "id": "323dbd79-9cdf-42a2-8509-7743c9a9d09e",
   "metadata": {},
   "outputs": [],
   "source": [
    "import pandas as pd\n",
    "\n",
    "df = pd.read_csv('data/Fish.csv')"
   ]
  },
  {
   "cell_type": "code",
   "execution_count": 2,
   "id": "585ca0ef-a144-4fe7-9e24-232a2a8b7e14",
   "metadata": {},
   "outputs": [],
   "source": [
    "fish_input = df[['Weight', 'Length2', 'Length3','Height','Width']]\n",
    "fish_target = df[['Species']]"
   ]
  },
  {
   "cell_type": "code",
   "execution_count": 43,
   "id": "ba52b92c-2c66-4cf2-a333-503869101663",
   "metadata": {},
   "outputs": [],
   "source": [
    "from sklearn.model_selection import train_test_split\n",
    "\n",
    "train_input, test_input, train_target, test_target = train_test_split(fish_input, fish_target, random_state=42)"
   ]
  },
  {
   "cell_type": "code",
   "execution_count": 44,
   "id": "2889a0ea-bf45-40bd-9622-6548a5d67da9",
   "metadata": {},
   "outputs": [],
   "source": [
    "from sklearn.preprocessing import StandardScaler\n",
    "ss = StandardScaler()\n",
    "ss.fit(train_input)\n",
    "train_scaled = ss.transform(train_input)\n",
    "test_scaled = ss.transform(test_input)"
   ]
  },
  {
   "cell_type": "code",
   "execution_count": 47,
   "id": "f28709b5-b7cb-448c-87af-808c04b8101c",
   "metadata": {},
   "outputs": [
    {
     "name": "stdout",
     "output_type": "stream",
     "text": [
      "0.7226890756302521\n",
      "0.675\n"
     ]
    },
    {
     "name": "stderr",
     "output_type": "stream",
     "text": [
      "C:\\Users\\1-15\\Desktop\\DAMF2\\ML\\venv\\Lib\\site-packages\\sklearn\\utils\\validation.py:1408: DataConversionWarning: A column-vector y was passed when a 1d array was expected. Please change the shape of y to (n_samples, ), for example using ravel().\n",
      "  y = column_or_1d(y, warn=True)\n"
     ]
    }
   ],
   "source": [
    "from sklearn.linear_model import SGDClassifier\n",
    "sc = SGDClassifier(loss = 'log_loss', max_iter = 100, random_state=42) # 에포크 100회 반복\n",
    "sc.fit(train_scaled, train_target)\n",
    "#SGDClassifier(loss = 'hinge', max_iter = '1000') => 기본설정\n",
    "print(sc.score(train_scaled, train_target))\n",
    "print(sc.score(test_scaled, test_target))"
   ]
  },
  {
   "cell_type": "markdown",
   "id": "31ddd2c7-2eb0-4c2d-95a8-4bc7143c6c50",
   "metadata": {},
   "source": [
    "### 에포크 한 번 더 실행 \n",
    "- 에포크 : 전체 데이터셋에 대해 한 번의 학습 과정을 완료하는 것"
   ]
  },
  {
   "cell_type": "code",
   "execution_count": 46,
   "id": "9e62eaf8-0067-4919-a611-891e09e0ca5d",
   "metadata": {},
   "outputs": [
    {
     "name": "stdout",
     "output_type": "stream",
     "text": [
      "0.8991596638655462\n",
      "0.925\n"
     ]
    },
    {
     "name": "stderr",
     "output_type": "stream",
     "text": [
      "C:\\Users\\1-15\\Desktop\\DAMF2\\ML\\venv\\Lib\\site-packages\\sklearn\\utils\\validation.py:1408: DataConversionWarning: A column-vector y was passed when a 1d array was expected. Please change the shape of y to (n_samples, ), for example using ravel().\n",
      "  y = column_or_1d(y, warn=True)\n"
     ]
    }
   ],
   "source": [
    "sc.partial_fit(train_scaled, train_target)\n",
    "print(sc.score(train_scaled, train_target))\n",
    "print(sc.score(test_scaled, test_target))"
   ]
  }
 ],
 "metadata": {
  "kernelspec": {
   "display_name": "Python 3 (ipykernel)",
   "language": "python",
   "name": "python3"
  },
  "language_info": {
   "codemirror_mode": {
    "name": "ipython",
    "version": 3
   },
   "file_extension": ".py",
   "mimetype": "text/x-python",
   "name": "python",
   "nbconvert_exporter": "python",
   "pygments_lexer": "ipython3",
   "version": "3.13.2"
  }
 },
 "nbformat": 4,
 "nbformat_minor": 5
}
