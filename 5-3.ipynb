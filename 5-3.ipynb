{
 "cells": [
  {
   "cell_type": "markdown",
   "id": "faa7d497-534f-43e9-9960-a4a8353b20ed",
   "metadata": {},
   "source": [
    "# 트리의 앙상블"
   ]
  },
  {
   "cell_type": "markdown",
   "id": "97abc559-63dd-4131-8e20-7ebb4240d036",
   "metadata": {},
   "source": [
    "- 1. bootstrap sampling : 복원추출을 통해 부트스트랩 샘플을 구성\n",
    "  2. root(특성개수)의 특성을 선택하여 결정트리 훈련"
   ]
  },
  {
   "cell_type": "code",
   "execution_count": 2,
   "id": "996c24e5-2944-4164-a462-5a5559052125",
   "metadata": {},
   "outputs": [],
   "source": [
    "import pandas as pd \n",
    "df = pd.read_csv('http://bit.ly/wine_csv_data')\n",
    "data = df[['alcohol', 'sugar', 'pH']]\n",
    "target = df[['class']]"
   ]
  },
  {
   "cell_type": "code",
   "execution_count": 3,
   "id": "a23d3c28-6cc8-4d3d-acb1-983b2e613eb6",
   "metadata": {},
   "outputs": [],
   "source": [
    "from sklearn.model_selection import train_test_split\n",
    "train_input, test_input, train_target, test_target = train_test_split(data, target)"
   ]
  },
  {
   "cell_type": "code",
   "execution_count": 6,
   "id": "7b392b37-5040-48c2-b5a5-489a18e1b992",
   "metadata": {},
   "outputs": [
    {
     "name": "stderr",
     "output_type": "stream",
     "text": [
      "C:\\Users\\1-15\\Desktop\\DAMF2\\ML\\venv\\Lib\\site-packages\\sklearn\\base.py:1389: DataConversionWarning: A column-vector y was passed when a 1d array was expected. Please change the shape of y to (n_samples,), for example using ravel().\n",
      "  return fit_method(estimator, *args, **kwargs)\n",
      "C:\\Users\\1-15\\Desktop\\DAMF2\\ML\\venv\\Lib\\site-packages\\sklearn\\base.py:1389: DataConversionWarning: A column-vector y was passed when a 1d array was expected. Please change the shape of y to (n_samples,), for example using ravel().\n",
      "  return fit_method(estimator, *args, **kwargs)\n",
      "C:\\Users\\1-15\\Desktop\\DAMF2\\ML\\venv\\Lib\\site-packages\\sklearn\\base.py:1389: DataConversionWarning: A column-vector y was passed when a 1d array was expected. Please change the shape of y to (n_samples,), for example using ravel().\n",
      "  return fit_method(estimator, *args, **kwargs)\n",
      "C:\\Users\\1-15\\Desktop\\DAMF2\\ML\\venv\\Lib\\site-packages\\sklearn\\base.py:1389: DataConversionWarning: A column-vector y was passed when a 1d array was expected. Please change the shape of y to (n_samples,), for example using ravel().\n",
      "  return fit_method(estimator, *args, **kwargs)\n",
      "C:\\Users\\1-15\\Desktop\\DAMF2\\ML\\venv\\Lib\\site-packages\\sklearn\\base.py:1389: DataConversionWarning: A column-vector y was passed when a 1d array was expected. Please change the shape of y to (n_samples,), for example using ravel().\n",
      "  return fit_method(estimator, *args, **kwargs)\n"
     ]
    },
    {
     "name": "stdout",
     "output_type": "stream",
     "text": [
      "{'fit_time': array([0.64236879, 0.60618877, 0.63189912, 0.6874404 , 0.59277654]), 'score_time': array([0.03721118, 0.03608537, 0.04585671, 0.03844595, 0.03610444]), 'test_score': array([0.89128205, 0.88410256, 0.89835729, 0.91170431, 0.88090349]), 'train_score': array([0.99794714, 0.99717732, 0.99769112, 0.99820421, 0.99769112])}\n"
     ]
    }
   ],
   "source": [
    "# 교차검증\n",
    "from sklearn.model_selection import cross_validate\n",
    "from sklearn.ensemble import RandomForestClassifier\n",
    "\n",
    "rf = RandomForestClassifier(n_jobs=1)\n",
    "scores = cross_validate(rf, train_input, train_target, return_train_score=True, n_jobs=1)\n",
    "print(scores)"
   ]
  },
  {
   "cell_type": "code",
   "execution_count": 9,
   "id": "13d7851a-bf49-4eb7-9be1-da577f06696d",
   "metadata": {},
   "outputs": [
    {
     "name": "stderr",
     "output_type": "stream",
     "text": [
      "C:\\Users\\1-15\\Desktop\\DAMF2\\ML\\venv\\Lib\\site-packages\\sklearn\\base.py:1389: DataConversionWarning: A column-vector y was passed when a 1d array was expected. Please change the shape of y to (n_samples,), for example using ravel().\n",
      "  return fit_method(estimator, *args, **kwargs)\n"
     ]
    },
    {
     "name": "stdout",
     "output_type": "stream",
     "text": [
      "[0.23397084 0.49872171 0.26730746]\n"
     ]
    }
   ],
   "source": [
    "rf.fit(train_input, train_target)\n",
    "print(rf.feature_importances_) \n",
    "# [0.22878474 0.50239736 0.26881791] : 결정트리 특성의 중요도 출력\n",
    "# [['alcohol', 'sugar', 'pH']] => sugar의 중요도가 가장 높다고 판단"
   ]
  },
  {
   "cell_type": "markdown",
   "id": "b500129f-6309-4f94-b8ec-5a21cda45f6e",
   "metadata": {},
   "source": [
    "### OOB : bootstrap sample에 포함되지 않은 샘플"
   ]
  },
  {
   "cell_type": "code",
   "execution_count": 11,
   "id": "7f86abb0-6bb0-479e-a0cc-97518cefb094",
   "metadata": {},
   "outputs": [
    {
     "name": "stderr",
     "output_type": "stream",
     "text": [
      "C:\\Users\\1-15\\Desktop\\DAMF2\\ML\\venv\\Lib\\site-packages\\sklearn\\base.py:1389: DataConversionWarning: A column-vector y was passed when a 1d array was expected. Please change the shape of y to (n_samples,), for example using ravel().\n",
      "  return fit_method(estimator, *args, **kwargs)\n"
     ]
    },
    {
     "data": {
      "text/plain": [
       "0.8994252873563219"
      ]
     },
     "execution_count": 11,
     "metadata": {},
     "output_type": "execute_result"
    }
   ],
   "source": [
    "rf = RandomForestClassifier(oob_score=True, n_jobs=1)\n",
    "rf.fit(train_input, train_target)\n",
    "rf.oob_score_"
   ]
  },
  {
   "cell_type": "markdown",
   "id": "26eb796f-828f-4408-9632-78dc0afe6d2d",
   "metadata": {},
   "source": [
    "### Extra Tree"
   ]
  },
  {
   "cell_type": "code",
   "execution_count": 14,
   "id": "041c467c-4b1d-4fd9-b2e3-76b3db94686b",
   "metadata": {},
   "outputs": [
    {
     "name": "stderr",
     "output_type": "stream",
     "text": [
      "C:\\Users\\1-15\\Desktop\\DAMF2\\ML\\venv\\Lib\\site-packages\\sklearn\\base.py:1389: DataConversionWarning: A column-vector y was passed when a 1d array was expected. Please change the shape of y to (n_samples,), for example using ravel().\n",
      "  return fit_method(estimator, *args, **kwargs)\n",
      "C:\\Users\\1-15\\Desktop\\DAMF2\\ML\\venv\\Lib\\site-packages\\sklearn\\base.py:1389: DataConversionWarning: A column-vector y was passed when a 1d array was expected. Please change the shape of y to (n_samples,), for example using ravel().\n",
      "  return fit_method(estimator, *args, **kwargs)\n",
      "C:\\Users\\1-15\\Desktop\\DAMF2\\ML\\venv\\Lib\\site-packages\\sklearn\\base.py:1389: DataConversionWarning: A column-vector y was passed when a 1d array was expected. Please change the shape of y to (n_samples,), for example using ravel().\n",
      "  return fit_method(estimator, *args, **kwargs)\n",
      "C:\\Users\\1-15\\Desktop\\DAMF2\\ML\\venv\\Lib\\site-packages\\sklearn\\base.py:1389: DataConversionWarning: A column-vector y was passed when a 1d array was expected. Please change the shape of y to (n_samples,), for example using ravel().\n",
      "  return fit_method(estimator, *args, **kwargs)\n",
      "C:\\Users\\1-15\\Desktop\\DAMF2\\ML\\venv\\Lib\\site-packages\\sklearn\\base.py:1389: DataConversionWarning: A column-vector y was passed when a 1d array was expected. Please change the shape of y to (n_samples,), for example using ravel().\n",
      "  return fit_method(estimator, *args, **kwargs)\n"
     ]
    },
    {
     "name": "stdout",
     "output_type": "stream",
     "text": [
      "{'fit_time': array([0.53037667, 0.50814176, 0.51164293, 0.50539422, 0.4948864 ]), 'score_time': array([0.04717207, 0.04667282, 0.04453301, 0.04342556, 0.04485631]), 'test_score': array([0.88717949, 0.87384615, 0.88706366, 0.90349076, 0.88501027]), 'train_score': array([0.99820375, 0.99717732, 0.99769112, 0.99846075, 0.99769112])}\n"
     ]
    }
   ],
   "source": [
    "from sklearn.ensemble import ExtraTreesClassifier\n",
    "et = ExtraTreesClassifier(n_jobs = 1)\n",
    "scores = cross_validate(et, train_input, train_target, return_train_score = True)\n",
    "print(scores)"
   ]
  },
  {
   "cell_type": "markdown",
   "id": "607b83d8-a52a-4e30-9411-7119cefc3c75",
   "metadata": {},
   "source": [
    "### Gradient Boosting\n",
    "- 과대적합 억제\n",
    "- SGB와 비슷한 개념 사용\n",
    "- GradientBoostingClassifier(n_estimators :트리 개수 지정)"
   ]
  },
  {
   "cell_type": "code",
   "execution_count": 16,
   "id": "526cf5bc-964f-4c6d-9456-f0c2c6bb0875",
   "metadata": {},
   "outputs": [
    {
     "name": "stderr",
     "output_type": "stream",
     "text": [
      "C:\\Users\\1-15\\Desktop\\DAMF2\\ML\\venv\\Lib\\site-packages\\sklearn\\preprocessing\\_label.py:110: DataConversionWarning: A column-vector y was passed when a 1d array was expected. Please change the shape of y to (n_samples, ), for example using ravel().\n",
      "  y = column_or_1d(y, warn=True)\n",
      "C:\\Users\\1-15\\Desktop\\DAMF2\\ML\\venv\\Lib\\site-packages\\sklearn\\preprocessing\\_label.py:110: DataConversionWarning: A column-vector y was passed when a 1d array was expected. Please change the shape of y to (n_samples, ), for example using ravel().\n",
      "  y = column_or_1d(y, warn=True)\n",
      "C:\\Users\\1-15\\Desktop\\DAMF2\\ML\\venv\\Lib\\site-packages\\sklearn\\preprocessing\\_label.py:110: DataConversionWarning: A column-vector y was passed when a 1d array was expected. Please change the shape of y to (n_samples, ), for example using ravel().\n",
      "  y = column_or_1d(y, warn=True)\n",
      "C:\\Users\\1-15\\Desktop\\DAMF2\\ML\\venv\\Lib\\site-packages\\sklearn\\preprocessing\\_label.py:110: DataConversionWarning: A column-vector y was passed when a 1d array was expected. Please change the shape of y to (n_samples, ), for example using ravel().\n",
      "  y = column_or_1d(y, warn=True)\n",
      "C:\\Users\\1-15\\Desktop\\DAMF2\\ML\\venv\\Lib\\site-packages\\sklearn\\preprocessing\\_label.py:110: DataConversionWarning: A column-vector y was passed when a 1d array was expected. Please change the shape of y to (n_samples, ), for example using ravel().\n",
      "  y = column_or_1d(y, warn=True)\n"
     ]
    },
    {
     "name": "stdout",
     "output_type": "stream",
     "text": [
      "{'fit_time': array([2.84619403, 2.86652589, 2.75323725, 2.75679278, 2.88293481]), 'score_time': array([0.02030277, 0.02062201, 0.02012515, 0.01893449, 0.01937079]), 'test_score': array([0.87794872, 0.86153846, 0.87782341, 0.89425051, 0.84907598]), 'train_score': array([0.91660251, 0.92661021, 0.91816316, 0.91251924, 0.92175475])}\n"
     ]
    }
   ],
   "source": [
    "from sklearn.ensemble import GradientBoostingClassifier\n",
    "gb=GradientBoostingClassifier(n_estimators=500)\n",
    "scores = cross_validate(gb, train_input, train_target, return_train_score = True)\n",
    "print(scores)"
   ]
  },
  {
   "cell_type": "markdown",
   "id": "b32bfed1-d5cf-4447-9391-bf2d0afc8719",
   "metadata": {},
   "source": [
    "### Histogram Gradient Boosting\n",
    "- 특성을 256개의 구간으로 나눈다"
   ]
  },
  {
   "cell_type": "code",
   "execution_count": 20,
   "id": "ab805fc6-0a78-4fa4-9079-77cd87a8a647",
   "metadata": {},
   "outputs": [
    {
     "name": "stderr",
     "output_type": "stream",
     "text": [
      "C:\\Users\\1-15\\Desktop\\DAMF2\\ML\\venv\\Lib\\site-packages\\sklearn\\utils\\validation.py:1408: DataConversionWarning: A column-vector y was passed when a 1d array was expected. Please change the shape of y to (n_samples, ), for example using ravel().\n",
      "  y = column_or_1d(y, warn=True)\n",
      "C:\\Users\\1-15\\Desktop\\DAMF2\\ML\\venv\\Lib\\site-packages\\sklearn\\utils\\validation.py:1408: DataConversionWarning: A column-vector y was passed when a 1d array was expected. Please change the shape of y to (n_samples, ), for example using ravel().\n",
      "  y = column_or_1d(y, warn=True)\n",
      "C:\\Users\\1-15\\Desktop\\DAMF2\\ML\\venv\\Lib\\site-packages\\sklearn\\utils\\validation.py:1408: DataConversionWarning: A column-vector y was passed when a 1d array was expected. Please change the shape of y to (n_samples, ), for example using ravel().\n",
      "  y = column_or_1d(y, warn=True)\n",
      "C:\\Users\\1-15\\Desktop\\DAMF2\\ML\\venv\\Lib\\site-packages\\sklearn\\utils\\validation.py:1408: DataConversionWarning: A column-vector y was passed when a 1d array was expected. Please change the shape of y to (n_samples, ), for example using ravel().\n",
      "  y = column_or_1d(y, warn=True)\n",
      "C:\\Users\\1-15\\Desktop\\DAMF2\\ML\\venv\\Lib\\site-packages\\sklearn\\utils\\validation.py:1408: DataConversionWarning: A column-vector y was passed when a 1d array was expected. Please change the shape of y to (n_samples, ), for example using ravel().\n",
      "  y = column_or_1d(y, warn=True)\n"
     ]
    },
    {
     "name": "stdout",
     "output_type": "stream",
     "text": [
      "{'fit_time': array([0.46888089, 0.46843958, 0.46214557, 0.45773911, 0.44493651]), 'score_time': array([0.01867032, 0.02101016, 0.01885748, 0.02002287, 0.01795697]), 'test_score': array([0.87282051, 0.8574359 , 0.87268994, 0.88911704, 0.862423  ]), 'train_score': array([0.93122915, 0.93379523, 0.92842483, 0.92816829, 0.9343253 ])}\n"
     ]
    }
   ],
   "source": [
    "from sklearn.ensemble import HistGradientBoostingClassifier\n",
    "hgb = HistGradientBoostingClassifier()\n",
    "scores = cross_validate(hgb, train_input, train_target, return_train_score=True)\n",
    "print(scores)"
   ]
  },
  {
   "cell_type": "code",
   "execution_count": 22,
   "id": "e7574cfc-8e2d-4c73-a934-8a79f3906f61",
   "metadata": {},
   "outputs": [
    {
     "name": "stderr",
     "output_type": "stream",
     "text": [
      "C:\\Users\\1-15\\Desktop\\DAMF2\\ML\\venv\\Lib\\site-packages\\sklearn\\utils\\validation.py:1408: DataConversionWarning: A column-vector y was passed when a 1d array was expected. Please change the shape of y to (n_samples, ), for example using ravel().\n",
      "  y = column_or_1d(y, warn=True)\n"
     ]
    },
    {
     "name": "stdout",
     "output_type": "stream",
     "text": [
      "[0.0907225  0.23936782 0.08271757]\n"
     ]
    }
   ],
   "source": [
    "from sklearn.inspection import permutation_importance\n",
    "hgb.fit(train_input, train_target) # 1. 전체 데이터에 대해 학습을 시킨다\n",
    "scores= permutation_importance(hgb, train_input, train_target) #2. permutation_importance를 적용하여 특성을 섞어준다\n",
    "print(scores.importances_mean)"
   ]
  },
  {
   "cell_type": "code",
   "execution_count": null,
   "id": "e3452a29-c7db-4b4a-9cfc-7d3a8ee411a7",
   "metadata": {},
   "outputs": [],
   "source": []
  },
  {
   "cell_type": "code",
   "execution_count": null,
   "id": "9b19f009-995e-447a-a235-953d93e368f7",
   "metadata": {},
   "outputs": [],
   "source": []
  },
  {
   "cell_type": "code",
   "execution_count": null,
   "id": "3673650c-6014-4af0-b7e2-196a2ababbc4",
   "metadata": {},
   "outputs": [],
   "source": []
  },
  {
   "cell_type": "code",
   "execution_count": null,
   "id": "d1b5ea45-f6ef-4679-a27d-28d76ceb2f9b",
   "metadata": {},
   "outputs": [],
   "source": []
  },
  {
   "cell_type": "code",
   "execution_count": null,
   "id": "14647f00-1f15-4e26-af59-f31196db8f07",
   "metadata": {},
   "outputs": [],
   "source": []
  },
  {
   "cell_type": "code",
   "execution_count": null,
   "id": "b6f1777e-f9ff-4b18-9805-ca097de0b4e9",
   "metadata": {},
   "outputs": [],
   "source": []
  }
 ],
 "metadata": {
  "kernelspec": {
   "display_name": "Python 3 (ipykernel)",
   "language": "python",
   "name": "python3"
  },
  "language_info": {
   "codemirror_mode": {
    "name": "ipython",
    "version": 3
   },
   "file_extension": ".py",
   "mimetype": "text/x-python",
   "name": "python",
   "nbconvert_exporter": "python",
   "pygments_lexer": "ipython3",
   "version": "3.13.2"
  }
 },
 "nbformat": 4,
 "nbformat_minor": 5
}
